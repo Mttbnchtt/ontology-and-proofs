{
 "cells": [
  {
   "cell_type": "code",
   "execution_count": null,
   "id": "e7391fa6-8ba6-41dd-a56a-fc33c3f4843e",
   "metadata": {},
   "outputs": [],
   "source": [
    "\"\"\"\n",
    "    Pappus' creativity is due to him (implicitly) distinguishing between numerical identity and conceptual identity\n",
    "    in step 1 and applying this distinction to the triangle ABC to take advantage of Euclid I.4.\n",
    "\"\"\"\n",
    "\n",
    "!python --version\n",
    "\n",
    "## install and import packages\n",
    "# !pip install nbimporter # to import notebooks\n",
    "# !pip install rdflib\n",
    "\n",
    "## import modules\n",
    "import copy\n",
    "# import glob\n",
    "import json\n",
    "# import os\n",
    "# import rdflib\n",
    "import re\n",
    "import requests\n",
    "import typing # to add advanced type hinting\n",
    "\n",
    "## import custom modules\n",
    "import functions\n",
    "import sparql_classes\n",
    "import sparql_queries\n",
    "\n",
    "# !pwd"
   ]
  },
  {
   "cell_type": "markdown",
   "id": "1e2098f2-7c7b-493a-a9c5-c8924fac1141",
   "metadata": {},
   "source": [
    "# PROOFS OF EUCLID I.5"
   ]
  },
  {
   "cell_type": "code",
   "execution_count": null,
   "id": "2579c355-6e32-45ec-a2fb-ae961230ad9c",
   "metadata": {},
   "outputs": [],
   "source": [
    "# proof_iri = \"<https://www.foom.com/pappus_proofAristotle#00000000000000000000>\"\n",
    "# selected_datastore:str = \"/datastores/foom_aristotle/sparql\"\n",
    "# proof_steps: list = functions.find_proof_steps(proof_iri, selected_datastore)\n",
    "# proof_steps"
   ]
  },
  {
   "cell_type": "code",
   "execution_count": null,
   "id": "dc4b2b45-917c-481e-8928-7f590ba357ba",
   "metadata": {},
   "outputs": [],
   "source": [
    "proof_iri = \"<https://www.foom.com/pappus_proofAristotle#00000000000000000000>\"\n",
    "selected_datastore:str = \"/datastores/foom_aristotle/sparql\"\n",
    "proof_steps: list = functions.find_proof_steps(proof_iri, selected_datastore)\n",
    "\n",
    "# start_iri: str = \"<http://www.foom.com/mathematical_concepts#00000000000000000227>\"\n",
    "start_iri: str = \"<https://www.foom.com/pappus_proofAristotle#00000000000000000001>\"\n",
    "# selected_datastore:str = \"/datastores/foom_aristotle/sparql\"\n",
    "\n",
    "top_properties: set = {\n",
    "    \"<http://www.foom.com/core#00000000000000000173>\", # has proof-related object property\n",
    "    \"<http://www.foom.com/mathematical_concepts#00000000000000000153>\" # has conceptual relation\n",
    "}\n",
    "\n",
    "\n",
    "paths = functions.organize_nodes_paths(start_iri, top_properties, selected_datastore)\n",
    "# paths\n",
    "\n",
    "#  CHECK: IT SEEMS THAT THE LAST VERSION RETURNS TOO FEW RESULTS"
   ]
  },
  {
   "cell_type": "code",
   "execution_count": null,
   "id": "9ab587b8-8822-4580-bb84-6ed7cf235c2a",
   "metadata": {},
   "outputs": [],
   "source": [
    "conceptual_space = functions.find_conceptual_space_of_proof(\n",
    "    proof_iri,\n",
    "    top_properties,\n",
    "    selected_datastore\n",
    ")"
   ]
  },
  {
   "cell_type": "code",
   "execution_count": null,
   "id": "afd62fe6-e990-41a7-a170-78f298967230",
   "metadata": {},
   "outputs": [],
   "source": [
    "for k in conceptual_space:\n",
    "    print(k)"
   ]
  },
  {
   "cell_type": "code",
   "execution_count": null,
   "id": "293d3fdf-51ab-4e9a-9264-ebab29295e76",
   "metadata": {},
   "outputs": [],
   "source": [
    "conceptual_space[\"general\"]"
   ]
  },
  {
   "cell_type": "code",
   "execution_count": null,
   "id": "ac945577-c5ed-4cf5-b81d-03c6fd04eb2b",
   "metadata": {},
   "outputs": [],
   "source": [
    "# TO DO\n",
    "# 0. extreact predicate paths (for now I only extract the path of nodes)\n",
    "# 1. sum conceptual space for concepts\n",
    "# 2. sum conceptual space for predicates"
   ]
  },
  {
   "cell_type": "code",
   "execution_count": null,
   "id": "b6f507c2-59fc-403f-aed7-a5408bf862ff",
   "metadata": {},
   "outputs": [],
   "source": []
  },
  {
   "cell_type": "code",
   "execution_count": null,
   "id": "0c6f7c76-9c76-47e8-b514-ac4b39f05324",
   "metadata": {},
   "outputs": [],
   "source": []
  }
 ],
 "metadata": {
  "language_info": {
   "name": "python"
  }
 },
 "nbformat": 4,
 "nbformat_minor": 5
}
