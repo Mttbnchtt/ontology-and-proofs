{
 "cells": [
  {
   "cell_type": "code",
   "execution_count": 21,
   "id": "e7391fa6-8ba6-41dd-a56a-fc33c3f4843e",
   "metadata": {},
   "outputs": [
    {
     "name": "stdout",
     "output_type": "stream",
     "text": [
      "Python 3.12.2\n",
      "Requirement already satisfied: rdflib in /Users/matteobianchetti/Documents/Chen.Chen.1/Filosofia/Logica/Mathematics/Math_subjects/Computer_science/Git_repositories/GitHub/ontology-and-proofs/tools/venv/foom_venv_3.12.2/lib/python3.12/site-packages (7.0.0)\n",
      "Requirement already satisfied: isodate<0.7.0,>=0.6.0 in /Users/matteobianchetti/Documents/Chen.Chen.1/Filosofia/Logica/Mathematics/Math_subjects/Computer_science/Git_repositories/GitHub/ontology-and-proofs/tools/venv/foom_venv_3.12.2/lib/python3.12/site-packages (from rdflib) (0.6.1)\n",
      "Requirement already satisfied: pyparsing<4,>=2.1.0 in /Users/matteobianchetti/Documents/Chen.Chen.1/Filosofia/Logica/Mathematics/Math_subjects/Computer_science/Git_repositories/GitHub/ontology-and-proofs/tools/venv/foom_venv_3.12.2/lib/python3.12/site-packages (from rdflib) (3.1.2)\n",
      "Requirement already satisfied: six in /Users/matteobianchetti/Documents/Chen.Chen.1/Filosofia/Logica/Mathematics/Math_subjects/Computer_science/Git_repositories/GitHub/ontology-and-proofs/tools/venv/foom_venv_3.12.2/lib/python3.12/site-packages (from isodate<0.7.0,>=0.6.0->rdflib) (1.16.0)\n",
      "/Users/matteobianchetti/Documents/Chen.Chen.1/Filosofia/Logica/Mathematics/Math_subjects/Computer_science/Git_repositories/GitHub/ontology-and-proofs/tools/venv/code\n"
     ]
    }
   ],
   "source": [
    "\"\"\"\n",
    "    Pappus' creativity is due to him (implicitly) distinguishing between numerical identity and conceptual identity\n",
    "    in step 1 and applying this distinction to the triangle ABC to take advantage of Euclid I.4.\n",
    "\"\"\"\n",
    "\n",
    "!python --version\n",
    "\n",
    "# install and import packages\n",
    "!pip install rdflib\n",
    "\n",
    "import glob\n",
    "import os\n",
    "import rdflib\n",
    "import requests\n",
    "import typing\n",
    "\n",
    "!pwd"
   ]
  },
  {
   "cell_type": "markdown",
   "id": "1e2098f2-7c7b-493a-a9c5-c8924fac1141",
   "metadata": {},
   "source": [
    "# PROOFS OF EUCLID I.5"
   ]
  },
  {
   "cell_type": "code",
   "execution_count": 31,
   "id": "950b17e5-3a72-44cf-929f-28c7db318354",
   "metadata": {},
   "outputs": [
    {
     "name": "stdout",
     "output_type": "stream",
     "text": [
      "?p\t?label\n",
      "<http://www.foom.com/core#00000000000000000170>\t\"construction satisfies request\"@en\n",
      "<http://www.foom.com/mathematical_concepts#00000000000000000163>\t\"defines\"@en\n",
      "\n",
      "?p\t?label\n",
      "<http://www.foom.com/core#00000000000000000170>\t\"construction satisfies request\"@en\n",
      "<http://www.foom.com/mathematical_concepts#00000000000000000163>\t\"defines\"@en\n",
      "\n"
     ]
    },
    {
     "data": {
      "text/plain": [
       "'?p\\t?label\\n<http://www.foom.com/core#00000000000000000170>\\t\"construction satisfies request\"@en\\n<http://www.foom.com/mathematical_concepts#00000000000000000163>\\t\"defines\"@en\\n'"
      ]
     },
     "execution_count": 31,
     "metadata": {},
     "output_type": "execute_result"
    }
   ],
   "source": [
    "# helper function to raise exception if the REST endpoint returns an\n",
    "# unexpected status code\n",
    "# def check_response_ok(response, message):\n",
    "#     if not response.ok:\n",
    "#         raise Exception(\n",
    "#             f\"{message}\\nStatus received={response.status_code}\\n{response.text}\")\n",
    "\n",
    "sparql_text_0:str = \"\"\"\n",
    "        select distinct \n",
    "        ?p\n",
    "        ?label\n",
    "        where {\n",
    "        ?s ?p ?o .\n",
    "        ?p rdfs:label ?label\n",
    "        }\n",
    "        order by ?label\n",
    "        limit 2\n",
    "    \"\"\"\n",
    "\n",
    "# submit sparql query and retrieve results\n",
    "def query_ontology(sparql_query:str,\n",
    "                  rdfox_server:str = \"http://localhost:12110\",\n",
    "                  datastore:str = \"/datastores/foom_pappus/sparql\") -> str:\n",
    "    # query the datastore at the rdfox server\n",
    "    response = requests.get(f\"{rdfox_server}{datastore}\", params={\"query\": sparql_query})\n",
    "    # check if the REST endpoint returns an unexpected status code\n",
    "    if not response.ok:\n",
    "        return \"\"\n",
    "    # if the REST endpoint returns an expected response, return the text of the response\n",
    "    return response.text\n",
    "\n",
    "print(query_ontology(sparql_text_0))\n",
    "results = query_ontology(sparql_text_0)\n",
    "print(results)\n",
    "results\n",
    "\n",
    "def collect_results(response:str) -> dict:\n",
    "    results:dict = {}\n",
    "    if response:\n",
    "        pass\n",
    "    return results\n",
    "\n",
    "\n",
    "# def collect_proofs(sparql_query:str = sparql_query_find_proofs()) -> dict:\n",
    "#     proofs:dict = {}\n",
    "#     response = query_ontology(sparql_query)\n",
    "#     if response:\n",
    "#         for response.\n",
    "#     return proofs"
   ]
  },
  {
   "cell_type": "code",
   "execution_count": null,
   "id": "45d2b86d-b6cc-4012-b34a-574caa086e72",
   "metadata": {},
   "outputs": [],
   "source": [
    "#### SPARQL QUERIES\n",
    "# find all proofs\n",
    "def sparql_query_find_proofs() -> str:\n",
    "    sparql_query:str = \"\"\"\n",
    "        SELECT DISTINCT \n",
    "            ?proof_iri\n",
    "            ?proof_label\n",
    "        WHERE {\n",
    "            ?proof_iri \n",
    "                a <http://www.foom.com/core/Proof> ;\n",
    "                rdfs:label ?proof_label .\n",
    "        }\n",
    "    \"\"\"\n",
    "    return sparql_query\n",
    "\n"
   ]
  },
  {
   "cell_type": "code",
   "execution_count": null,
   "id": "492d9d41-edab-4b94-b18b-ec192991ae3a",
   "metadata": {},
   "outputs": [],
   "source": [
    "# 0. select a proof\n",
    "# find all proofs\n",
    "\n",
    "\n",
    "# 1. statement to prove\n",
    "\n",
    "\n",
    "# 2. conceptual items connected to that statement\n",
    "# 3. apply heuristics\n",
    "# 4. compare step with results of heuristics\n",
    "# 5. repeat for each step\n",
    "\n"
   ]
  },
  {
   "cell_type": "code",
   "execution_count": 19,
   "id": "281f1441-f7c3-411b-8f73-b17970196d3e",
   "metadata": {},
   "outputs": [],
   "source": [
    "#### SPARQL QUERIES\n",
    "\n",
    "# find all proofs\n",
    "def sparql_query_find_proofs():\n",
    "    sparql_query:str = \"\"\"\n",
    "        SELECT DISTINCT \n",
    "            ?proof_iri\n",
    "            ?proof_label\n",
    "        WHERE {\n",
    "            ?proof_iri \n",
    "                a <http://www.foom.com/core/Proof> ;\n",
    "                rdfs:label ?proof_label .\n",
    "        }\n",
    "    \"\"\"\n",
    "    return sparql_query\n",
    "\n",
    "# for every proof, find all the steps in that proof\n",
    "def sparql_query_find_steps_in_proof(given_proof_iri:str):\n",
    "    sparql_query:str = f\"\"\"\n",
    "    SELECT DISTINCT\n",
    "        ?proof_iri\n",
    "        ?proof_step_iri\n",
    "        ?proof_step_label\n",
    "        ?antecendent_proof_step_iri\n",
    "    WHERE {{\n",
    "        ?proof_iri \n",
    "            a <http://www.foom.com/core/Proof> .\n",
    "        ?proof_step_iri\n",
    "            a <http://www.foom.com/core/Proof_step> ;\n",
    "            rdfs:label ?proof_step_label ;\n",
    "            <http://www.foom.com/core/inProof> {given_proof_iri} .\n",
    "        OPTIONAL {{\n",
    "            ?proof_step_iri <http://www.foom.com/core/hasAntecedent> ?antecendent_proof_step_iri .\n",
    "        }}\n",
    "    }}\n",
    "    \"\"\"\n",
    "    return sparql_query\n",
    "\n",
    "# find all the individuals and properties used in the proof steps of a given proof\n",
    "# group by proof step\n",
    "def sparql_query_find_individuals_and_properties_of_proof_steps_of_given_proof(given_proof_iri:str):\n",
    "    sparql_query:str = f\"\"\"\n",
    "    SELECT DISTINCT\n",
    "        ?proof_iri\n",
    "        ?proof_step_iri\n",
    "    WHERE {{\n",
    "        ?proof_iri \n",
    "            a <http://www.foom.com/core/Proof> .\n",
    "        ?proof_step_iri\n",
    "            a <http://www.foom.com/core/Proof_step> ;\n",
    "            <http://www.foom.com/core/inProof> {given_proof_iri} .\n",
    "        \n",
    "    }}\n",
    "    \"\"\"\n",
    "    return sparql_query\n",
    "\n",
    "# find exactly all the properties used in some proof step\n",
    "def sparql_query_find_properties_proof_steps():\n",
    "    sparql_query:str = \"\"\"\n",
    "        SELECT DISTINCT \n",
    "            ?p \n",
    "            ?p_label\n",
    "            ?p_type\n",
    "        WHERE {\n",
    "            ?proof_step_iri \n",
    "                a <http://www.foom.com/core/Proof_step> ;\n",
    "                ?p ?o .\n",
    "            ?p \n",
    "                rdfs:label ?p_label ;\n",
    "                a ?p_type .\n",
    "        }\n",
    "    \"\"\"\n",
    "    return sparql_query\n",
    "    \n",
    "\n",
    "# for every step, find the triple attached to it and the items to which the step directly refers\n",
    "\n"
   ]
  },
  {
   "cell_type": "code",
   "execution_count": null,
   "id": "b39d6815-6c68-4622-be21-9ff076317d12",
   "metadata": {},
   "outputs": [],
   "source": []
  },
  {
   "cell_type": "code",
   "execution_count": null,
   "id": "99e4728a-2fae-45ad-a337-f26a718a96a4",
   "metadata": {},
   "outputs": [],
   "source": []
  },
  {
   "cell_type": "code",
   "execution_count": null,
   "id": "c4b308d8-3e71-4082-b611-553fd0af2ee4",
   "metadata": {},
   "outputs": [],
   "source": []
  },
  {
   "cell_type": "code",
   "execution_count": null,
   "id": "88f66bac-adbf-430b-bed6-ac8ec5c8a044",
   "metadata": {},
   "outputs": [],
   "source": []
  },
  {
   "cell_type": "code",
   "execution_count": null,
   "id": "ac945577-c5ed-4cf5-b81d-03c6fd04eb2b",
   "metadata": {},
   "outputs": [],
   "source": []
  }
 ],
 "metadata": {
  "kernelspec": {
   "display_name": "Python 3 (ipykernel)",
   "language": "python",
   "name": "python3"
  },
  "language_info": {
   "codemirror_mode": {
    "name": "ipython",
    "version": 3
   },
   "file_extension": ".py",
   "mimetype": "text/x-python",
   "name": "python",
   "nbconvert_exporter": "python",
   "pygments_lexer": "ipython3",
   "version": "3.12.2"
  }
 },
 "nbformat": 4,
 "nbformat_minor": 5
}
