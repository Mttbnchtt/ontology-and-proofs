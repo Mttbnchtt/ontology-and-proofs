{
 "cells": [
  {
   "cell_type": "code",
   "execution_count": null,
   "id": "e7391fa6-8ba6-41dd-a56a-fc33c3f4843e",
   "metadata": {},
   "outputs": [],
   "source": [
    "\"\"\"\n",
    "    Pappus' creativity is due to him (implicitly) distinguishing between numerical identity and conceptual identity\n",
    "    in step 1 and applying this distinction to the triangle ABC to take advantage of Euclid I.4.\n",
    "\"\"\"\n",
    "\n",
    "!python --version\n",
    "\n",
    "## install and import packages\n",
    "# !pip install nbimporter # to import notebooks\n",
    "# !pip install rdflib\n",
    "\n",
    "## import modules\n",
    "import copy\n",
    "# import glob\n",
    "import json\n",
    "# import os\n",
    "# import rdflib\n",
    "import re\n",
    "import requests\n",
    "import typing # to add advanced type hinting\n",
    "import urllib\n",
    "\n",
    "## import custom modules\n",
    "import functions_find_conceptual_space\n",
    "import functions_heuristics\n",
    "import functions_utils\n",
    "import sparql_classes\n",
    "import sparql_queries\n",
    "\n",
    "# !pwd"
   ]
  },
  {
   "cell_type": "markdown",
   "id": "1e2098f2-7c7b-493a-a9c5-c8924fac1141",
   "metadata": {},
   "source": [
    "# PROOFS OF EUCLID I.5"
   ]
  },
  {
   "cell_type": "code",
   "execution_count": null,
   "id": "761d5932-4434-43c3-ac9c-6f1760088a58",
   "metadata": {},
   "outputs": [],
   "source": [
    "proof_step = \"<https://www.foom.com/pappus_proofPappus#00000000000000000150>\"\n",
    "selected_datastore:str = \"/datastores/foom_pappus/sparql\"\n",
    "conceptual_space_before_proof_step = functions_find_conceptual_space.find_conceptual_space_before_proof_step(proof_step, selected_datastore)\n",
    "conceptual_space_of_proof_step = functions_find_conceptual_space.find_conceptual_space_of_proof_step(proof_step, selected_datastore)\n",
    "diff_conceptual_space = functions_utils.diff_conceptual_spaces(\n",
    "    conceptual_space_before_proof_step,\n",
    "    conceptual_space_of_proof_step)"
   ]
  },
  {
   "cell_type": "code",
   "execution_count": null,
   "id": "662179c2-e5cb-4eb5-aa72-788d65d76ecd",
   "metadata": {},
   "outputs": [],
   "source": [
    "diff_conceptual_space"
   ]
  },
  {
   "cell_type": "code",
   "execution_count": null,
   "id": "d23c6cea-1f40-4a3f-967a-d312909891b8",
   "metadata": {},
   "outputs": [],
   "source": [
    "proof_step = \"<https://www.foom.com/pappus_proofPappus#00000000000000000150>\"\n",
    "proof_iri = \"<https://www.foom.com/pappus_proofPappus#00000000000000000131>\"\n",
    "claim_iri = \"<http://www.foom.com/mathematical_concepts#00000000000000000115>\"\n",
    "selected_datastore:str = \"/datastores/foom_pappus/sparql\"\n",
    "functions_heuristics.find_goal_of_proof(proof_iri, selected_datastore)\n",
    "functions_heuristics.find_last_step_of_proof(proof_iri, selected_datastore)\n",
    "\n",
    "functions_find_conceptual_space.find_conceptual_space_of_claim(claim_iri, selected_datastore)"
   ]
  },
  {
   "cell_type": "code",
   "execution_count": null,
   "id": "5098ace3-681c-4b0d-ab40-789ff5babe4c",
   "metadata": {},
   "outputs": [],
   "source": []
  }
 ],
 "metadata": {
  "language_info": {
   "name": "python"
  }
 },
 "nbformat": 4,
 "nbformat_minor": 5
}
