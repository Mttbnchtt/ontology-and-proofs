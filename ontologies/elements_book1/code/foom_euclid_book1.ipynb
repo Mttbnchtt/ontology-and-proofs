{
 "cells": [
  {
   "cell_type": "code",
   "execution_count": null,
   "metadata": {},
   "outputs": [],
   "source": []
  },
  {
   "cell_type": "code",
   "execution_count": null,
   "metadata": {},
   "outputs": [],
   "source": [
    "%pip install rdflib"
   ]
  },
  {
   "cell_type": "code",
   "execution_count": null,
   "metadata": {},
   "outputs": [],
   "source": [
    "import google\n",
    "import os\n",
    "\n",
    "# prompt: mount drive here to read files from the folder \"My Drive > Colab_Notebooks > Formal_Ontology_of_Mathematics\"\n",
    "google.colab.drive.mount('/content/drive')\n",
    "\n",
    "os.chdir(\"/content/drive/My Drive/Colab_Notebooks/Formal_Ontology_of_Mathematics\")\n",
    "!ls\n",
    "#Now you can access files in this directory.  For example:\n",
    "#with open(\"my_file.txt\", \"r\") as f:\n",
    "#    file_contents = f.read()\n",
    "#    print(file_contents)\n"
   ]
  },
  {
   "cell_type": "code",
   "execution_count": null,
   "metadata": {},
   "outputs": [],
   "source": [
    "import os\n",
    "import re\n",
    "import rdflib\n",
    "\n",
    "import modules.utils as utils\n",
    "import modules.tbox as tbox\n",
    "import modules.concepts as concepts\n",
    "\n",
    "# common IRIs\n",
    "rdf_type = rdflib.RDF.type\n",
    "rdfs_label = rdflib.RDFS.label\n",
    "rdfs_subclassof = rdflib.RDFS.subClassOf\n",
    "skos_prefLabel = rdflib.SKOS.prefLabel\n",
    "skos_altLabel = rdflib.SKOS.altLabel\n",
    "owl_class = rdflib.OWL.Class\n",
    "owl_individual = rdflib.OWL.NamedIndividual\n",
    "owl_object_property = rdflib.OWL.ObjectProperty\n",
    "owl_data_property = rdflib.OWL.DatatypeProperty\n",
    "owl_annotation_property = rdflib.OWL.AnnotationProperty\n",
    "\n",
    "concept_class = utils.create_iri(\"Concept\", namespace=\"https://www.foom.com/core\")\n",
    "definition_refers_to = utils.create_iri(\"definition refers to\", namespace=\"https://www.foom.com/core\")\n",
    "is_defined_in = utils.create_iri(\"is defined in\", namespace=\"https://www.foom.com/core\")\n",
    "contains_definition_of = utils.create_iri(\"contains_definition_of\", namespace=\"https://www.foom.com/core\")\n",
    "is_in = utils.create_iri(\"is in\", namespace=\"https://www.foom.com/core\")\n",
    "has_definition = utils.create_iri(\"has definition\", namespace=\"https://www.foom.com/core\")\n",
    "defines = utils.create_iri(\"defines\", namespace=\"https://www.foom.com/core\")"
   ]
  },
  {
   "cell_type": "code",
   "execution_count": null,
   "metadata": {},
   "outputs": [],
   "source": [
    "\n",
    "# initialize graph\n",
    "kg = rdflib.Graph()\n",
    "\n",
    "# tbox and foundational triples\n",
    "ontology_items = {\n",
    "    (\"Concept\", owl_class),\n",
    "    (\"is defined in\", owl_object_property),\n",
    "    (\"Document\", owl_class),\n",
    "    (\"Definition\", owl_class),\n",
    "    (\"Postulate\", owl_class),\n",
    "    (\"Common notion\", owl_class),\n",
    "    (\"Proposition\", owl_class)\n",
    "    (\"Statement\", owl_class)\n",
    "    (\"Enumeration\", owl_class)\n",
    "    (\"Proposition type\", owl_class)\n",
    "    (\"contains_definition_of\", owl_object_property),\n",
    "    (\"definition refers to\", owl_object_property),\n",
    "    (\"is in\", owl_object_property),\n",
    "    (\"has definition\", owl_object_property),\n",
    "    (\"defines\", owl_object_property),\n",
    "    (\"has subject\", owl_object_property),\n",
    "    (\"has predicate\", owl_object_property),\n",
    "    (\"has object\", owl_object_property)\n",
    "}\n",
    "triples = {\n",
    "    (utils.create_iri(\"Elements Book 1\"), rdf_type, owl_individual),\n",
    "    (utils.create_iri(\"Elements Book 1\"), rdfs_label, rdflib.Literal(\"Document: Elements Book 1\")),\n",
    "    (utils.create_iri(\"Elements Book 1\"), skos_prefLabel, rdflib.Literal(\"Elements Book 1\")),\n",
    "    (utils.create_iri(\"Elements Book 1\"), rdf_type, utils.create_iri(\"Document\", namespace=\"https://www.foom.com/core\")),\n",
    "    (utils.create_iri(\"Proposition type\", namespace=\"https://www.foom.com/core\"), rdfs_subclassof, utils.create_iri(\"Enumeration\", namespace=\"https://www.foom.com/core\")),\n",
    "}\n",
    "\n",
    "kg = tbox.add_tbox(kg, ontology_items, triples)\n",
    "\n",
    "# abox: concepts\n",
    "input_file_path = \"input/ontology_definitions_concepts.txt\"\n",
    "kg = concepts.main_add_definition_concepts(input_file_path, kg)\n",
    "\n",
    "# output ontology\n",
    "utils.output_ontology(kg, \"output\", \"euclid_book1.ttl\", \"turtle\")"
   ]
  },
  {
   "cell_type": "code",
   "execution_count": null,
   "metadata": {},
   "outputs": [],
   "source": [
    "def add_postulates(kg: rdflib.Graph,\n",
    "                   input_file_path: str) -> rdflib.Graph:\n",
    "    lines = utils.read_text_file(input_file_path)\n",
    "    postulates = organize_postulates(lines)\n",
    "    print(postulates)\n",
    "\n",
    "    # add postulates\n",
    "    kg = add_postulate_triples(kg, postulates)\n",
    "    # add links from postulates to concepts and vice versa\n",
    "\n",
    "    # add relations\n",
    "\n",
    "    # add operations\n",
    "\n",
    "\n",
    "    return kg\n",
    "\n",
    "def add_postulate_triples(kg: rdflib.Graph,\n",
    "                          postulates: dict) -> rdflib.Graph:\n",
    "    for postulate in postulates:\n",
    "        postulate_iri = utils.create_iri(postulate, namespace=\"https://www.foom.com/euclid\")\n",
    "        postulate_label = rdflib.Literal(postulate.replace(\"_\", \" \"))\n",
    "        kg.add((postulate_iri, rdfs_label, rdflib.Literal(postulate_label)))\n",
    "        kg.add((postulate_iri, rdf_type, owl_individual))\n",
    "        kg.add((postulate_iri, rdf_type, utils.create_iri(\"Postulate\", namespace=\"https://www.foom.com/core\")))\n",
    "        kg.add((postulate_iri, rdfs_label, postulate_label))\n",
    "        kg.add((postulate_iri, skos_prefLabel, postulate_label))\n",
    "    return kg\n",
    "\n",
    "\n",
    "def organize_postulates(lines: list) -> dict:\n",
    "    postulates = {\n",
    "        line.split()[0]: {\n",
    "            \"concepts\": [],\n",
    "            \"relations\": [],\n",
    "            \"operations\": []\n",
    "        }\n",
    "        for line in lines\n",
    "    }\n",
    "    for line in lines:\n",
    "        items = [item.replace(\":\", \"\").replace(\",\", \"\").strip() for item in line.split()]\n",
    "        for item in items[2:]:\n",
    "            postulates[items[0]][items[1]].append(item)\n",
    "    return postulates\n",
    "\n",
    "input_file_path = \"input/ontology_postulates.txt\"\n",
    "add_postulates(kg, input_file_path)"
   ]
  },
  {
   "cell_type": "code",
   "execution_count": null,
   "metadata": {},
   "outputs": [],
   "source": []
  },
  {
   "cell_type": "code",
   "execution_count": null,
   "metadata": {},
   "outputs": [],
   "source": []
  },
  {
   "cell_type": "code",
   "execution_count": null,
   "metadata": {},
   "outputs": [],
   "source": []
  },
  {
   "cell_type": "code",
   "execution_count": null,
   "metadata": {},
   "outputs": [],
   "source": []
  },
  {
   "cell_type": "code",
   "execution_count": null,
   "metadata": {},
   "outputs": [],
   "source": []
  },
  {
   "cell_type": "code",
   "execution_count": null,
   "metadata": {},
   "outputs": [],
   "source": []
  },
  {
   "cell_type": "code",
   "execution_count": null,
   "metadata": {},
   "outputs": [],
   "source": []
  },
  {
   "cell_type": "code",
   "execution_count": null,
   "metadata": {},
   "outputs": [],
   "source": []
  },
  {
   "cell_type": "code",
   "execution_count": null,
   "metadata": {},
   "outputs": [],
   "source": []
  },
  {
   "cell_type": "code",
   "execution_count": null,
   "metadata": {},
   "outputs": [],
   "source": []
  }
 ],
 "metadata": {
  "language_info": {
   "name": "python"
  }
 },
 "nbformat": 4,
 "nbformat_minor": 0
}
