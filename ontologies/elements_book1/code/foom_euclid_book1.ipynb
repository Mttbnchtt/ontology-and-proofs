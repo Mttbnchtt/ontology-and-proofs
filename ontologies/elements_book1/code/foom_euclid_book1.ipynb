{
 "cells": [
  {
   "cell_type": "code",
   "execution_count": null,
   "metadata": {},
   "outputs": [],
   "source": []
  },
  {
   "cell_type": "code",
   "execution_count": null,
   "metadata": {},
   "outputs": [],
   "source": [
    "%pip install rdflib"
   ]
  },
  {
   "cell_type": "code",
   "execution_count": null,
   "metadata": {},
   "outputs": [],
   "source": [
    "import google\n",
    "import os\n",
    "\n",
    "# prompt: mount drive here to read files from the folder \"My Drive > Colab_Notebooks > Formal_Ontology_of_Mathematics\"\n",
    "google.colab.drive.mount('/content/drive')\n",
    "\n",
    "os.chdir(\"/content/drive/My Drive/Colab_Notebooks/Formal_Ontology_of_Mathematics\")\n",
    "!ls\n",
    "#Now you can access files in this directory.  For example:\n",
    "#with open(\"my_file.txt\", \"r\") as f:\n",
    "#    file_contents = f.read()\n",
    "#    print(file_contents)\n"
   ]
  },
  {
   "cell_type": "code",
   "execution_count": null,
   "metadata": {},
   "outputs": [],
   "source": [
    "import os\n",
    "import re\n",
    "import rdflib\n",
    "\n",
    "import modules.utils as utils\n",
    "import modules.tbox as tbox\n",
    "import modules.concepts as concepts\n",
    "\n",
    "# common IRIs\n",
    "rdf_type = rdflib.RDF.type\n",
    "rdfs_label = rdflib.RDFS.label\n",
    "skos_prefLabel = rdflib.SKOS.prefLabel\n",
    "skos_altLabel = rdflib.SKOS.altLabel\n",
    "owl_class = rdflib.OWL.Class\n",
    "owl_individual = rdflib.OWL.NamedIndividual\n",
    "owl_object_property = rdflib.OWL.ObjectProperty\n",
    "owl_data_property = rdflib.OWL.DatatypeProperty\n",
    "owl_annotation_property = rdflib.OWL.AnnotationProperty\n",
    "\n",
    "concept_class = utils.create_iri(\"Concept\", namespace=\"https://www.foom.com/core\")\n",
    "definition_refers_to = utils.create_iri(\"definition refers to\", namespace=\"https://www.foom.com/core\")\n",
    "is_defined_in = utils.create_iri(\"is defined in\", namespace=\"https://www.foom.com/core\")\n",
    "contains_definition_of = utils.create_iri(\"contains_definition_of\", namespace=\"https://www.foom.com/core\")"
   ]
  },
  {
   "cell_type": "code",
   "execution_count": null,
   "metadata": {},
   "outputs": [],
   "source": [
    "# define input file path\n",
    "input_file_path = \"input/ontology_definitions_concepts.txt\"\n",
    "\n",
    "# initialize graph\n",
    "kg = rdflib.Graph()\n",
    "\n",
    "# tbox and foundational triples\n",
    "ontology_items = {\n",
    "    (\"Concept\", owl_class),\n",
    "    (\"is defined in\", owl_object_property),\n",
    "    (\"contains_definition_of\", owl_object_property),\n",
    "    (\"definition refers to\", owl_object_property),\n",
    "    (\"Document\", owl_class)\n",
    "}\n",
    "triples = {\n",
    "    (utils.create_iri(\"Elements Book 1\"), rdf_type, owl_individual),\n",
    "    (utils.create_iri(\"Elements Book 1\"), rdfs_label, rdflib.Literal(\"Document: Elements Book 1\")),\n",
    "    (utils.create_iri(\"Elements Book 1\"), skos_prefLabel, rdflib.Literal(\"Elements Book 1\")),\n",
    "    (utils.create_iri(\"Elements Book 1\"), rdf_type, utils.create_iri(\"Document\", namespace=\"https://www.foom.com/core\"))\n",
    "}\n",
    "\n",
    "kg = tbox.add_tbox(kg, ontology_items, triples)\n",
    "\n",
    "# abox: concepts\n",
    "kg = concepts.main_add_definition_concepts(input_file_path, kg)\n",
    "\n",
    "# output ontology\n",
    "utils.output_ontology(kg, \"output\", \"euclid_book1.ttl\", \"turtle\")"
   ]
  },
  {
   "cell_type": "code",
   "execution_count": null,
   "metadata": {},
   "outputs": [],
   "source": []
  },
  {
   "cell_type": "code",
   "execution_count": null,
   "metadata": {},
   "outputs": [],
   "source": []
  },
  {
   "cell_type": "code",
   "execution_count": null,
   "metadata": {},
   "outputs": [],
   "source": []
  },
  {
   "cell_type": "code",
   "execution_count": null,
   "metadata": {},
   "outputs": [],
   "source": []
  },
  {
   "cell_type": "code",
   "execution_count": null,
   "metadata": {},
   "outputs": [],
   "source": []
  },
  {
   "cell_type": "code",
   "execution_count": null,
   "metadata": {},
   "outputs": [],
   "source": []
  },
  {
   "cell_type": "code",
   "execution_count": null,
   "metadata": {},
   "outputs": [],
   "source": []
  },
  {
   "cell_type": "code",
   "execution_count": null,
   "metadata": {},
   "outputs": [],
   "source": []
  },
  {
   "cell_type": "code",
   "execution_count": null,
   "metadata": {},
   "outputs": [],
   "source": []
  },
  {
   "cell_type": "code",
   "execution_count": null,
   "metadata": {},
   "outputs": [],
   "source": []
  },
  {
   "cell_type": "code",
   "execution_count": null,
   "metadata": {},
   "outputs": [],
   "source": []
  }
 ],
 "metadata": {
  "language_info": {
   "name": "python"
  }
 },
 "nbformat": 4,
 "nbformat_minor": 0
}
