{
 "cells": [
  {
   "cell_type": "markdown",
   "id": "e89c32c5",
   "metadata": {},
   "source": [
    "# CREATIVITY"
   ]
  },
  {
   "cell_type": "code",
   "execution_count": null,
   "id": "7a40ad0e",
   "metadata": {},
   "outputs": [],
   "source": [
    "import math # math utilities\n",
    "import pandas as pd  # data frame utilities\n",
    "import rdflib  # RDF graph tools\n",
    "import  pathlib # filesystem paths\n",
    "import sys  # check Python version\n",
    "\n",
    "import modules.file_utils as file_utils  # project file helpers to read/write files\n",
    "\n",
    "# project helpers to handle RDF and SPARQL\n",
    "import modules.rdf_utils as rdf_utils  # project RDF helpers\n",
    "import modules.queries as queries  # SPARQL queries\n",
    "\n",
    "# modules to calculate potentials and surprisingness\n",
    "import modules.potential as potential  # module itself\n",
    "import modules.calculate_activation_potential as calculate_activation_potential  # calculate activation potential\n",
    "import modules.direct_and_mereological_last_item as direct_and_mereological_last_item  # direct and mereological last item\n",
    "import modules.surprise_score as surprise_score  # surprise score\n",
    "\n",
    "print(sys.version)  # confirm interpreter version"
   ]
  },
  {
   "cell_type": "code",
   "execution_count": null,
   "id": "4a918277",
   "metadata": {},
   "outputs": [],
   "source": [
    "NOTEBOOK_DIR = pathlib.Path.cwd()\n",
    "INPUT_TTL = NOTEBOOK_DIR.parent / \"ontologies\" / \"ontology_euclid_book1.ttl\"\n",
    "OUTPUT_DIR = NOTEBOOK_DIR / \"output\" / \"analyses\"\n",
    "\n",
    "\n",
    "def main(input_ttl: pathlib.Path = INPUT_TTL,\n",
    "         upper_proposition_number: int=1,\n",
    "         given_upper_part: float=1/4,\n",
    "         output_file: str=OUTPUT_DIR) -> rdflib.Graph:\n",
    "    # Load the RDF graph of Euclid's Elements, Book 1\n",
    "    g = rdf_utils.read_graph(file_path=str(input_ttl))\n",
    "    # compute the historical and co-occurent use of of concepts in definitions, postulates, and axioms\n",
    "    # initialize list results\n",
    "    analyses = []\n",
    "    # for every proof, compute the creativity degree of that proof\n",
    "    for i in range(1, upper_proposition_number):\n",
    "        print(i)\n",
    "        background_concepts, diff = potential.main(g, proposition_number=i, given_upper_part=given_upper_part)\n",
    "        result = [i,\n",
    "                  \" ; \".join( sorted( list(background_concepts) ) ) ,\n",
    "                  \" ; \".join( sorted(list(diff) ) ) ]   \n",
    "        analyses.append(result)\n",
    "        print(\"---\")\n",
    "    # output the results to a csv file\n",
    "    return file_utils.output_df(analyses, filename=OUTPUT_DIR)"
   ]
  },
  {
   "cell_type": "code",
   "execution_count": null,
   "id": "4d4913b6",
   "metadata": {},
   "outputs": [],
   "source": [
    "analyses_df = main(upper_proposition_number=49)"
   ]
  },
  {
   "cell_type": "code",
   "execution_count": null,
   "id": "451e6926",
   "metadata": {},
   "outputs": [],
   "source": [
    "\"\"\"\n",
    "Now let us concentrate on ontologies/elements_book1/study/dev_experimental.ipynb and the modules in the folder '/Users/matteobianchetti/Documents/Chen.Chen.1/Filosofia/Logica/\n",
    "▌ Mathematics/Math_subjects/Computer_science/Git_repositories/GitHub/ontology-and-proofs/ontologies/elements_book1/study/modules_experimental'. In ontologies/elements_book1/\n",
    "▌ study/modules_experimental/surprise_score.py , we define DEFAULT_HISTORY_SELECTION and DEFAULT_COOCCURRENCE_SELECTION. Move this values to the notebook ontologies/\n",
    "▌ elements_book1/study/dev_experimental.ipynb : I want to immediately see from the notebook what these criteria are and then pass them from the notebook to the right functions.\n",
    "\"\"\""
   ]
  },
  {
   "cell_type": "code",
   "execution_count": null,
   "id": "c2f97b54",
   "metadata": {},
   "outputs": [],
   "source": []
  }
 ],
 "metadata": {
  "language_info": {
   "name": "python"
  }
 },
 "nbformat": 4,
 "nbformat_minor": 5
}
