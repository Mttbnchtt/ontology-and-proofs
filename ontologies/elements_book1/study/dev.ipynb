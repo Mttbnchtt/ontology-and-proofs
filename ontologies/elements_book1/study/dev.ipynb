{
 "cells": [
  {
   "cell_type": "markdown",
   "id": "e89c32c5",
   "metadata": {},
   "source": [
    "# CREATIVITY"
   ]
  },
  {
   "cell_type": "code",
   "execution_count": null,
   "id": "7a40ad0e",
   "metadata": {},
   "outputs": [],
   "source": [
    "import pandas as pd  # data frame utilities\n",
    "import rdflib  # RDF graph tools\n",
    "import  pathlib \n",
    "import sys  # check Python version\n",
    "\n",
    "import modules.rdf_utils as rdf_utils  # project RDF helpers\n",
    "\n",
    "print(sys.version)  # confirm interpreter version"
   ]
  },
  {
   "cell_type": "code",
   "execution_count": null,
   "id": "4a918277",
   "metadata": {},
   "outputs": [],
   "source": [
    "NOTEBOOK_DIR = pathlib.Path.cwd()\n",
    "INPUT_TTL = NOTEBOOK_DIR.parent / \"ontologies\" / \"ontology_euclid_book1.ttl\"\n",
    "\n",
    "def main(input_ttl: Path = INPUT_TTL) -> rdflib.Graph:\n",
    "    # Load the RDF graph of Euclid's Elements, Book 1\n",
    "    g = rdf_utils.read_graph(file_path=str(input_ttl))\n",
    "    # compute the historical and co-occurent use of of concepts in definitions, postulates, and axioms\n",
    "\n",
    "    # for every proof, compute the creativity degree of that proof\n",
    "\n",
    "    # return a csv file with the results\n",
    "\n",
    "    return g\n",
    "g = main(INPUT_TTL)"
   ]
  },
  {
   "cell_type": "code",
   "execution_count": null,
   "id": "4d4913b6",
   "metadata": {},
   "outputs": [],
   "source": []
  },
  {
   "cell_type": "code",
   "execution_count": null,
   "id": "451e6926",
   "metadata": {},
   "outputs": [],
   "source": []
  }
 ],
 "metadata": {
  "language_info": {
   "name": "python"
  }
 },
 "nbformat": 4,
 "nbformat_minor": 5
}
