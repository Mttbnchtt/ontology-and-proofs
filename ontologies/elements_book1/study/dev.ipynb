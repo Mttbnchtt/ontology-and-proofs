{
 "cells": [
  {
   "cell_type": "markdown",
   "id": "e89c32c5",
   "metadata": {},
   "source": [
    "# CREATIVITY"
   ]
  },
  {
   "cell_type": "code",
   "execution_count": null,
   "id": "7a40ad0e",
   "metadata": {},
   "outputs": [],
   "source": [
    "import pandas as pd\n",
    "import rdflib"
   ]
  },
  {
   "cell_type": "code",
   "execution_count": null,
   "id": "d0107ead",
   "metadata": {},
   "outputs": [],
   "source": []
  },
  {
   "cell_type": "code",
   "execution_count": null,
   "id": "4a918277",
   "metadata": {},
   "outputs": [],
   "source": []
  }
 ],
 "metadata": {
  "language_info": {
   "name": "python"
  }
 },
 "nbformat": 4,
 "nbformat_minor": 5
}
