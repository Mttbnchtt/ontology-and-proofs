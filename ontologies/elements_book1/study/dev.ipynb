{
 "cells": [
  {
   "cell_type": "markdown",
   "id": "e89c32c5",
   "metadata": {},
   "source": [
    "# CREATIVITY"
   ]
  },
  {
   "cell_type": "code",
   "execution_count": null,
   "id": "7a40ad0e",
   "metadata": {},
   "outputs": [],
   "source": [
    "import pandas as pd # to work with dataframes\n",
    "import rdflib # to work with RDF graphs\n",
    "import sys # to check Python version\n",
    "\n",
    "import modules.rdf_utils as rdf_utils # custom module for RDF utilities\n",
    "\n",
    "print(sys.version) # print Python version"
   ]
  },
  {
   "cell_type": "code",
   "execution_count": null,
   "id": "4a918277",
   "metadata": {},
   "outputs": [],
   "source": [
    "INPUT_TTL = \"./ontologies/elements_book1/ontologies/ontology_euclid_book1.ttl\"\n",
    "\n",
    "def main(\n",
    "        input_ttl: str=INPUT_TTL,\n",
    "):\n",
    "    g = rdflib_utils.read_graph(file_path=input_ttl)\n",
    "    return g\n",
    "\n",
    "g = main(INPUT_TTL)"
   ]
  },
  {
   "cell_type": "code",
   "execution_count": null,
   "id": "4d4913b6",
   "metadata": {},
   "outputs": [],
   "source": []
  },
  {
   "cell_type": "code",
   "execution_count": null,
   "id": "451e6926",
   "metadata": {},
   "outputs": [],
   "source": []
  }
 ],
 "metadata": {
  "language_info": {
   "name": "python"
  }
 },
 "nbformat": 4,
 "nbformat_minor": 5
}
