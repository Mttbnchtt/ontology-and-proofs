{
 "cells": [
  {
   "cell_type": "markdown",
   "metadata": {},
   "source": [
    "# Experimental Study Notebook\n",
    "\n",
    "This notebook mirrors `dev.ipynb` but exercises the refactored modules under `modules`.\n",
    "Use it to benchmark the updated pipeline without touching the legacy code.\n",
    "\n",
    "**Default selections:** history = top 10% of activation scores; co-occurrence = top 5% of pair activations.\n",
    "**Default history weights:** direct = 6/9, hierarchical = 1/9, mereological = 2/9.\n"
   ]
  },
  {
   "cell_type": "code",
   "execution_count": null,
   "metadata": {},
   "outputs": [],
   "source": [
    "from __future__ import annotations\n",
    "\n",
    "import pathlib\n",
    "import sys\n",
    "\n",
    "NOTEBOOK_DIR = pathlib.Path.cwd()\n",
    "if str(NOTEBOOK_DIR) not in sys.path:\n",
    "    sys.path.append(str(NOTEBOOK_DIR))\n",
    "\n",
    "import pandas as pd\n",
    "import rdflib\n",
    "\n",
    "from modules import potential as exp_potential\n",
    "from modules import rdf_utils\n",
    "from modules.query_runner import QueryRunner\n",
    "\n",
    "print(sys.version)\n"
   ]
  },
  {
   "cell_type": "code",
   "execution_count": null,
   "metadata": {},
   "outputs": [],
   "source": [
    "INPUT_TTL = NOTEBOOK_DIR.parent / \"ontologies\" / \"ontology_euclid_book1.ttl\"\n",
    "\n",
    "def load_graph(input_ttl: pathlib.Path = INPUT_TTL) -> rdflib.Graph:\n",
    "    graph = rdf_utils.read_graph(str(input_ttl))\n",
    "    return graph\n"
   ]
  },
  {
   "cell_type": "code",
   "execution_count": null,
   "metadata": {},
   "outputs": [],
   "source": [
    "from modules.surprise_score import SelectionCriteria, SelectionMode\n",
    "\n",
    "DEFAULT_HISTORY_SELECTION = SelectionCriteria(SelectionMode.TOP_FRACTION, 1 / 10)\n",
    "DEFAULT_COOCCURRENCE_SELECTION = SelectionCriteria(SelectionMode.TOP_FRACTION, 1 / 20)\n",
    "DEFAULT_HISTORY_WEIGHTS = (6 / 9, 1 / 9, 2 / 9)\n",
    "\n",
    "def analyse(\n",
    "    input_ttl: pathlib.Path = INPUT_TTL,\n",
    "    upper_proposition_number: int = 10,\n",
    "    history_weights: tuple[float, float, float] = DEFAULT_HISTORY_WEIGHTS,\n",
    "    history_selection: SelectionCriteria = DEFAULT_HISTORY_SELECTION,\n",
    "    cooccurrence_selection: SelectionCriteria = DEFAULT_COOCCURRENCE_SELECTION,\n",
    ") -> pd.DataFrame:\n",
    "    graph = load_graph(input_ttl)\n",
    "    runner = QueryRunner(graph)\n",
    "\n",
    "    analyses = []\n",
    "    for proposition in range(1, upper_proposition_number + 1):\n",
    "        print(f\"Analysing proposition {proposition}\")\n",
    "        background_concepts, surprising = exp_potential.main(\n",
    "            graph,\n",
    "            proposition,\n",
    "            history_weights=history_weights,\n",
    "            history_selection=history_selection,\n",
    "            cooccurrence_selection=cooccurrence_selection,\n",
    "        )\n",
    "\n",
    "        analyses.append({\n",
    "            \"proposition\": proposition,\n",
    "            \"background_concepts\": \" ; \".join(sorted(background_concepts)),\n",
    "            \"surprising_concepts\": \" ; \".join(sorted(surprising)),\n",
    "        })\n",
    "    return pd.DataFrame(analyses)\n"
   ]
  },
  {
   "cell_type": "code",
   "execution_count": null,
   "metadata": {},
   "outputs": [],
   "source": [
    "DEFAULT_HISTORY_SELECTION = SelectionCriteria(SelectionMode.TOP_FRACTION, 1 / 10)\n",
    "DEFAULT_COOCCURRENCE_SELECTION = SelectionCriteria(SelectionMode.TOP_FRACTION, 1 / 20)\n",
    "DEFAULT_HISTORY_WEIGHTS = (6 / 9, 1 / 9, 2 / 9)\n",
    "\n",
    "history_selection = DEFAULT_HISTORY_SELECTION\n",
    "cooccurrence_selection = DEFAULT_COOCCURRENCE_SELECTION\n",
    "history_weights = DEFAULT_HISTORY_WEIGHTS\n",
    "\n",
    "results_df = analyse(\n",
    "    upper_proposition_number=49,\n",
    "    history_selection=history_selection,\n",
    "    cooccurrence_selection=cooccurrence_selection,\n",
    "    history_weights=history_weights,\n",
    "    verbose=False,\n",
    ")\n",
    "results_df\n"
   ]
  },
  {
   "cell_type": "code",
   "execution_count": null,
   "metadata": {},
   "outputs": [],
   "source": []
  }
 ],
 "metadata": {
  "language_info": {
   "name": "python"
  }
 },
 "nbformat": 4,
 "nbformat_minor": 2
}
