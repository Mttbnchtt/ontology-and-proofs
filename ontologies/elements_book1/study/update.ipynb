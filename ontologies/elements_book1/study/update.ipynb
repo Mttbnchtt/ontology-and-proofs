{
 "cells": [
  {
   "cell_type": "markdown",
   "id": "4881d754",
   "metadata": {},
   "source": [
    "# ADD ELEMENTS TO THE ONTOLOGY OF EUCLID'S BOOK 1"
   ]
  },
  {
   "cell_type": "code",
   "execution_count": null,
   "id": "f015d645",
   "metadata": {},
   "outputs": [],
   "source": [
    "from __future__ import annotations\n",
    "\n",
    "import pathlib\n",
    "import sys\n",
    "\n",
    "NOTEBOOK_DIR = pathlib.Path.cwd()\n",
    "if '_NB_SYS_PATH_ADJUSTED' not in globals():\n",
    "    sys.path.insert(0, str(NOTEBOOK_DIR))\n",
    "    _NB_SYS_PATH_ADJUSTED = True\n",
    "\n",
    "import pandas as pd\n",
    "import rdflib\n",
    "\n",
    "from modules import legacy_utils"
   ]
  },
  {
   "cell_type": "code",
   "execution_count": null,
   "id": "fcbe9f77",
   "metadata": {},
   "outputs": [],
   "source": [
    "# add contains_concepts relations to postulates and common notions\n",
    "INPUT_FILE = NOTEBOOK_DIR / \"input\" / \"addenda_contains_concept.csv\"\n"
   ]
  },
  {
   "cell_type": "code",
   "execution_count": null,
   "id": "93d197f0",
   "metadata": {},
   "outputs": [],
   "source": []
  },
  {
   "cell_type": "code",
   "execution_count": null,
   "id": "d46113f4",
   "metadata": {},
   "outputs": [],
   "source": []
  }
 ],
 "metadata": {
  "language_info": {
   "name": "python"
  }
 },
 "nbformat": 4,
 "nbformat_minor": 5
}
