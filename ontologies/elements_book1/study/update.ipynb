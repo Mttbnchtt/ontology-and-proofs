{
 "cells": [
  {
   "cell_type": "markdown",
   "id": "4881d754",
   "metadata": {},
   "source": [
    "# ADD ELEMENTS TO THE ONTOLOGY OF EUCLID'S BOOK 1"
   ]
  },
  {
   "cell_type": "code",
   "execution_count": null,
   "id": "f015d645",
   "metadata": {},
   "outputs": [],
   "source": [
    "import pandas as pd\n",
    "import rdflib\n",
    "\n",
    "from modules import legacy_utils"
   ]
  },
  {
   "cell_type": "code",
   "execution_count": null,
   "id": "fcbe9f77",
   "metadata": {},
   "outputs": [],
   "source": []
  },
  {
   "cell_type": "code",
   "execution_count": null,
   "id": "93d197f0",
   "metadata": {},
   "outputs": [],
   "source": []
  },
  {
   "cell_type": "code",
   "execution_count": null,
   "id": "d46113f4",
   "metadata": {},
   "outputs": [],
   "source": []
  }
 ],
 "metadata": {
  "language_info": {
   "name": "python"
  }
 },
 "nbformat": 4,
 "nbformat_minor": 5
}
