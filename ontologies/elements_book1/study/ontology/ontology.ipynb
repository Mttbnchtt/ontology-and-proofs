{
 "cells": [
  {
   "cell_type": "code",
   "execution_count": null,
   "id": "eecbbe25",
   "metadata": {},
   "outputs": [],
   "source": [
    "# ONTOLOGY REFINMENT"
   ]
  },
  {
   "cell_type": "code",
   "execution_count": null,
   "id": "99b1831a",
   "metadata": {},
   "outputs": [],
   "source": [
    "import pandas as pd \n",
    "import rdflib"
   ]
  },
  {
   "cell_type": "code",
   "execution_count": null,
   "id": "1c712c81",
   "metadata": {},
   "outputs": [],
   "source": [
    "#  read input ontology file\n",
    "# INPUT_TTL = NOTEBOOK_DIR.parent / \"ontologies\" / \"ontology_euclid_book1.ttl\"\n"
   ]
  },
  {
   "cell_type": "code",
   "execution_count": null,
   "id": "3d53848a",
   "metadata": {},
   "outputs": [],
   "source": []
  }
 ],
 "metadata": {
  "language_info": {
   "name": "python"
  }
 },
 "nbformat": 4,
 "nbformat_minor": 5
}
