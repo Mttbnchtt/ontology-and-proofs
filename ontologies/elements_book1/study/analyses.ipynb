{
 "cells": [
  {
   "cell_type": "markdown",
   "metadata": {},
   "source": [
    "# ANALYSES"
   ]
  },
  {
   "cell_type": "code",
   "execution_count": null,
   "metadata": {},
   "outputs": [],
   "source": [
    "from __future__ import annotations\n",
    "\n",
    "import pathlib\n",
    "import sys\n",
    "\n",
    "NOTEBOOK_DIR = pathlib.Path.cwd()\n",
    "if '_NB_SYS_PATH_ADJUSTED' not in globals():\n",
    "    sys.path.insert(0, str(NOTEBOOK_DIR))\n",
    "    _NB_SYS_PATH_ADJUSTED = True\n",
    "\n",
    "print(sys.version)\n",
    "\n",
    "from modules import rdf_utils, file_utils\n",
    "from modules.analyses import analyse, print_results_stats\n",
    "from modules.surprise_score import SelectionCriteria, SelectionMode\n",
    "from modules.query_runner import QueryRunner\n"
   ]
  },
  {
   "cell_type": "code",
   "execution_count": null,
   "metadata": {},
   "outputs": [],
   "source": [
    "INPUT_TTL = file_utils.latest_file(folder=NOTEBOOK_DIR / 'ontologies', filename_fragment='ontology_', extension='ttl')\n",
    "graph = rdf_utils.load_graph(INPUT_TTL)\n",
    "runner = QueryRunner(graph)\n"
   ]
  },
  {
   "cell_type": "markdown",
   "metadata": {},
   "source": [
    "## 4 WEIGHTS"
   ]
  },
  {
   "cell_type": "code",
   "execution_count": null,
   "metadata": {},
   "outputs": [],
   "source": [
    "# 1.\n",
    "DEFAULT_HISTORY_SELECTION = SelectionCriteria(SelectionMode.TOP_FRACTION, 1 / 1)\n",
    "DEFAULT_COOCCURRENCE_SELECTION = SelectionCriteria(SelectionMode.TOP_FRACTION, 1 / 1)\n",
    "DEFAULT_HISTORY_WEIGHTS = (6 / 9, 1 / 9, 1 / 9, 1 / 9)\n",
    "\n",
    "results_df = analyse(\n",
    "    upper_proposition_number=48,\n",
    "    history_selection=DEFAULT_HISTORY_SELECTION,\n",
    "    cooccurrence_selection=DEFAULT_COOCCURRENCE_SELECTION,\n",
    "    history_weights=DEFAULT_HISTORY_WEIGHTS,\n",
    "    verbose=True,\n",
    "    graph=graph,\n",
    "    runner=runner,\n",
    "    type_selection=False,\n",
    "    exclude_numeric_concepts=True,\n",
    "    output_base_dir=NOTEBOOK_DIR\n",
    ")\n",
    "results_df"
   ]
  },
  {
   "cell_type": "code",
   "execution_count": null,
   "metadata": {},
   "outputs": [],
   "source": [
    "# 2.\n",
    "DEFAULT_HISTORY_SELECTION = SelectionCriteria(SelectionMode.TOP_FRACTION, 1 / 1)\n",
    "DEFAULT_COOCCURRENCE_SELECTION = SelectionCriteria(SelectionMode.TOP_FRACTION, 1 / 1)\n",
    "DEFAULT_HISTORY_WEIGHTS = (6 / 9, 1 / 9, 1 / 9, 1 / 9)\n",
    "\n",
    "results_df = analyse(\n",
    "    upper_proposition_number=48,\n",
    "    history_selection=DEFAULT_HISTORY_SELECTION,\n",
    "    cooccurrence_selection=DEFAULT_COOCCURRENCE_SELECTION,\n",
    "    history_weights=DEFAULT_HISTORY_WEIGHTS,\n",
    "    verbose=True,\n",
    "    graph=graph,\n",
    "    runner=runner,\n",
    "    type_selection=True,\n",
    "    exclude_numeric_concepts=True,\n",
    "    output_base_dir=NOTEBOOK_DIR\n",
    ")\n",
    "results_df"
   ]
  },
  {
   "cell_type": "code",
   "execution_count": null,
   "metadata": {},
   "outputs": [],
   "source": [
    "# 3.\n",
    "DEFAULT_HISTORY_SELECTION = SelectionCriteria(SelectionMode.TOP_FRACTION, 1 / 2)\n",
    "DEFAULT_COOCCURRENCE_SELECTION = SelectionCriteria(SelectionMode.TOP_FRACTION, 1 / 1)\n",
    "DEFAULT_HISTORY_WEIGHTS = (6 / 9, 1 / 9, 1 / 9, 1 / 9)\n",
    "\n",
    "results_df = analyse(\n",
    "    upper_proposition_number=48,\n",
    "    history_selection=DEFAULT_HISTORY_SELECTION,\n",
    "    cooccurrence_selection=DEFAULT_COOCCURRENCE_SELECTION,\n",
    "    history_weights=DEFAULT_HISTORY_WEIGHTS,\n",
    "    verbose=True,\n",
    "    graph=graph,\n",
    "    runner=runner,\n",
    "    type_selection=False,\n",
    "    exclude_numeric_concepts=True,\n",
    "    output_base_dir=NOTEBOOK_DIR\n",
    ")\n",
    "results_df"
   ]
  },
  {
   "cell_type": "code",
   "execution_count": null,
   "metadata": {},
   "outputs": [],
   "source": [
    "# 4.\n",
    "DEFAULT_HISTORY_SELECTION = SelectionCriteria(SelectionMode.TOP_FRACTION, 1 / 2)\n",
    "DEFAULT_COOCCURRENCE_SELECTION = SelectionCriteria(SelectionMode.TOP_FRACTION, 1 / 1)\n",
    "DEFAULT_HISTORY_WEIGHTS = (6 / 9, 1 / 9, 1 / 9, 1 / 9)\n",
    "\n",
    "results_df = analyse(\n",
    "    upper_proposition_number=48,\n",
    "    history_selection=DEFAULT_HISTORY_SELECTION,\n",
    "    cooccurrence_selection=DEFAULT_COOCCURRENCE_SELECTION,\n",
    "    history_weights=DEFAULT_HISTORY_WEIGHTS,\n",
    "    verbose=True,\n",
    "    graph=graph,\n",
    "    runner=runner,\n",
    "    type_selection=True,\n",
    "    exclude_numeric_concepts=True,\n",
    "    output_base_dir=NOTEBOOK_DIR\n",
    ")\n",
    "results_df"
   ]
  },
  {
   "cell_type": "code",
   "execution_count": null,
   "metadata": {},
   "outputs": [],
   "source": [
    "# 5.\n",
    "DEFAULT_HISTORY_SELECTION = SelectionCriteria(SelectionMode.TOP_FRACTION, 3 / 4)\n",
    "DEFAULT_COOCCURRENCE_SELECTION = SelectionCriteria(SelectionMode.TOP_FRACTION, 1 / 1)\n",
    "DEFAULT_HISTORY_WEIGHTS = (6 / 9, 1 / 9, 1 / 9, 1 / 9)\n",
    "\n",
    "results_df = analyse(\n",
    "    upper_proposition_number=48,\n",
    "    history_selection=DEFAULT_HISTORY_SELECTION,\n",
    "    cooccurrence_selection=DEFAULT_COOCCURRENCE_SELECTION,\n",
    "    history_weights=DEFAULT_HISTORY_WEIGHTS,\n",
    "    verbose=True,\n",
    "    graph=graph,\n",
    "    runner=runner,\n",
    "    type_selection=False,\n",
    "    exclude_numeric_concepts=True,\n",
    "    output_base_dir=NOTEBOOK_DIR\n",
    ")\n",
    "results_df"
   ]
  },
  {
   "cell_type": "code",
   "execution_count": null,
   "metadata": {},
   "outputs": [],
   "source": [
    "# 6.\n",
    "DEFAULT_HISTORY_SELECTION = SelectionCriteria(SelectionMode.TOP_FRACTION, 3 / 4)\n",
    "DEFAULT_COOCCURRENCE_SELECTION = SelectionCriteria(SelectionMode.TOP_FRACTION, 1 / 1)\n",
    "DEFAULT_HISTORY_WEIGHTS = (6 / 9, 1 / 9, 1 / 9, 1 / 9)\n",
    "\n",
    "results_df = analyse(\n",
    "    upper_proposition_number=48,\n",
    "    history_selection=DEFAULT_HISTORY_SELECTION,\n",
    "    cooccurrence_selection=DEFAULT_COOCCURRENCE_SELECTION,\n",
    "    history_weights=DEFAULT_HISTORY_WEIGHTS,\n",
    "    verbose=True,\n",
    "    graph=graph,\n",
    "    runner=runner,\n",
    "    type_selection=False,\n",
    "    exclude_numeric_concepts=True,\n",
    "    output_base_dir=NOTEBOOK_DIR\n",
    ")\n",
    "results_df"
   ]
  },
  {
   "cell_type": "markdown",
   "metadata": {},
   "source": [
    "# 3 WEIGHTS"
   ]
  },
  {
   "cell_type": "code",
   "execution_count": null,
   "metadata": {},
   "outputs": [],
   "source": [
    "# 3.\n",
    "DEFAULT_HISTORY_SELECTION = SelectionCriteria(SelectionMode.TOP_FRACTION, 1 / 1)\n",
    "DEFAULT_COOCCURRENCE_SELECTION = SelectionCriteria(SelectionMode.TOP_FRACTION, 1 / 1)\n",
    "DEFAULT_HISTORY_WEIGHTS = (6 / 9, 1 / 9, 2 / 9)\n",
    "\n",
    "results_df = analyse(\n",
    "    upper_proposition_number=48,\n",
    "    history_selection=DEFAULT_HISTORY_SELECTION,\n",
    "    cooccurrence_selection=DEFAULT_COOCCURRENCE_SELECTION,\n",
    "    history_weights=DEFAULT_HISTORY_WEIGHTS,\n",
    "    verbose=True,\n",
    "    graph=graph,\n",
    "    runner=runner,\n",
    "    type_selection=False,\n",
    "    exclude_numeric_concepts=True,\n",
    "    output_base_dir=NOTEBOOK_DIR\n",
    ")\n",
    "results_df"
   ]
  },
  {
   "cell_type": "code",
   "execution_count": null,
   "metadata": {},
   "outputs": [],
   "source": [
    "# 3.\n",
    "DEFAULT_HISTORY_SELECTION = SelectionCriteria(SelectionMode.TOP_FRACTION, 1 / 1)\n",
    "DEFAULT_COOCCURRENCE_SELECTION = SelectionCriteria(SelectionMode.TOP_FRACTION, 1 / 1)\n",
    "DEFAULT_HISTORY_WEIGHTS = (6 / 9, 1 / 9, 2 / 9)\n",
    "\n",
    "results_df = analyse(\n",
    "    upper_proposition_number=48,\n",
    "    history_selection=DEFAULT_HISTORY_SELECTION,\n",
    "    cooccurrence_selection=DEFAULT_COOCCURRENCE_SELECTION,\n",
    "    history_weights=DEFAULT_HISTORY_WEIGHTS,\n",
    "    verbose=True,\n",
    "    graph=graph,\n",
    "    runner=runner,\n",
    "    type_selection=True,\n",
    "    exclude_numeric_concepts=True,\n",
    "    output_base_dir=NOTEBOOK_DIR\n",
    ")\n",
    "results_df"
   ]
  },
  {
   "cell_type": "code",
   "execution_count": null,
   "metadata": {},
   "outputs": [],
   "source": []
  }
 ],
 "metadata": {
  "language_info": {
   "name": "python"
  }
 },
 "nbformat": 4,
 "nbformat_minor": 2
}
