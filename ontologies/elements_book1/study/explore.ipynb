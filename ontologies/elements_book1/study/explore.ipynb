{
 "cells": [
  {
   "cell_type": "markdown",
   "id": "eecbbe25",
   "metadata": {},
   "source": [
    "# ONTOLOGY EXPLORATION"
   ]
  },
  {
   "cell_type": "code",
   "execution_count": null,
   "id": "99b1831a",
   "metadata": {},
   "outputs": [],
   "source": [
    "import pathlib\n",
    "import sys\n",
    "\n",
    "NOTEBOOK_DIR = pathlib.Path.cwd()\n",
    "if '_NB_SYS_PATH_ADJUSTED' not in globals():\n",
    "    sys.path.insert(0, str(NOTEBOOK_DIR))\n",
    "    _NB_SYS_PATH_ADJUSTED = True\n",
    "\n",
    "import pandas as pd \n",
    "import rdflib"
   ]
  },
  {
   "cell_type": "code",
   "execution_count": null,
   "id": "9b908805",
   "metadata": {},
   "outputs": [],
   "source": [
    "import modules.rdf_utils as rdf_utils\n",
    "\n",
    "def load_graph(input_ttl: pathlib.Path) -> rdflib.Graph:\n",
    "    graph = rdf_utils.read_graph(str(input_ttl))\n",
    "    return graph\n"
   ]
  },
  {
   "cell_type": "code",
   "execution_count": null,
   "id": "1c712c81",
   "metadata": {},
   "outputs": [],
   "source": [
    "#  read input ontology file\n",
    "INPUT_TTL = NOTEBOOK_DIR.parent / \"ontologies\" / \"ontology_euclid_book1.ttl\"\n",
    "g = load_graph(INPUT_TTL)\n"
   ]
  },
  {
   "cell_type": "code",
   "execution_count": null,
   "id": "3d53848a",
   "metadata": {},
   "outputs": [],
   "source": [
    "import datetime\n",
    "\n",
    "OUTPUT_PATH = NOTEBOOK_DIR / \"output\"\n",
    "TIMESTAMP_FORMAT = \"%Y%m%d-%H%M%S\"\n",
    "\n",
    "PREFIXES = \"\"\"\n",
    "    PREFIX core: <https://www.foom.com/core#>\n",
    "    PREFIX owl: <http://www.w3.org/2002/07/owl#>\n",
    "    PREFIX rdf: <http://www.w3.org/1999/02/22-rdf-syntax-ns#>\n",
    "    PREFIX rdfs: <http://www.w3.org/2000/01/rdf-schema#>\n",
    "    PREFIX skos: <http://www.w3.org/2004/02/skos/core#>\n",
    "    PREFIX xsd: <http://www.w3.org/2001/XMLSchema#>\n",
    "\"\"\"\n",
    "\n",
    "def run_query(g: rdflib.Graph, sparql_query: str) -> pd.DataFrame:\n",
    "    results = g.query(PREFIXES + sparql_query)\n",
    "\n",
    "    def _to_python(term):\n",
    "        if term is None:\n",
    "            return None\n",
    "        return term.toPython() if hasattr(term, \"toPython\") else str(term)\n",
    "\n",
    "    df = pd.DataFrame(results.bindings)\n",
    "    for col in df.columns:\n",
    "        df = df.applymap(_to_python)\n",
    "    print(f\"Query returned {len(df)} results.\")\n",
    "    return df\n",
    "\n",
    "def df_to_csv(df: pd.DataFrame, output_path: pathlib.Path) -> None:\n",
    "    timestamp = datetime.datetime.now().strftime(TIMESTAMP_FORMAT)\n",
    "    output_file = f\"{OUTPUT_PATH}_{timestamp}.csv\"\n",
    "    df.to_csv(output_path, index=False)\n",
    "    print(f\"Saved results to {output_file}\")\n",
    "\n",
    "def main(g: rdflib.Graph, \n",
    "         sparql_query: str, \n",
    "         write_to_csv: bool=False,\n",
    "         output_path: pathlib.Path=OUTPUT_PATH) -> None:\n",
    "    df = run_query(g, sparql_query)\n",
    "    if write_to_csv:\n",
    "        df_to_csv(df, output_path)\n",
    "    return df"
   ]
  }
 ],
 "metadata": {
  "language_info": {
   "name": "python"
  }
 },
 "nbformat": 4,
 "nbformat_minor": 5
}
