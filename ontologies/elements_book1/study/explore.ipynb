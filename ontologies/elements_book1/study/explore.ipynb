{
 "cells": [
  {
   "cell_type": "markdown",
   "id": "eecbbe25",
   "metadata": {},
   "source": [
    "# ONTOLOGY EXPLORATION"
   ]
  },
  {
   "cell_type": "code",
   "execution_count": null,
   "id": "99b1831a",
   "metadata": {},
   "outputs": [],
   "source": [
    "import pathlib\n",
    "import sys\n",
    "\n",
    "NOTEBOOK_DIR = pathlib.Path.cwd()\n",
    "if '_NB_SYS_PATH_ADJUSTED' not in globals():\n",
    "    sys.path.insert(0, str(NOTEBOOK_DIR))\n",
    "    _NB_SYS_PATH_ADJUSTED = True\n",
    "\n",
    "import pandas as pd \n",
    "import rdflib"
   ]
  },
  {
   "cell_type": "code",
   "execution_count": null,
   "id": "9b908805",
   "metadata": {},
   "outputs": [],
   "source": [
    "def load_graph(input_ttl: pathlib.Path) -> rdflib.Graph:\n",
    "    graph = rdf_utils.read_graph(str(input_ttl))\n",
    "    return graph"
   ]
  },
  {
   "cell_type": "code",
   "execution_count": null,
   "id": "1c712c81",
   "metadata": {},
   "outputs": [],
   "source": [
    "#  read input ontology file\n",
    "INPUT_TTL = NOTEBOOK_DIR.parent / \"ontologies\" / \"ontology_euclid_book1.ttl\"\n",
    "g = load_graph(INPUT_TTL)\n"
   ]
  },
  {
   "cell_type": "code",
   "execution_count": null,
   "id": "3d53848a",
   "metadata": {},
   "outputs": [],
   "source": []
  }
 ],
 "metadata": {
  "language_info": {
   "name": "python"
  }
 },
 "nbformat": 4,
 "nbformat_minor": 5
}
