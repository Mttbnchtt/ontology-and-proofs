{
 "cells": [
  {
   "cell_type": "markdown",
   "id": "eecbbe25",
   "metadata": {},
   "source": [
    "# ONTOLOGY EXPLORATION"
   ]
  },
  {
   "cell_type": "code",
   "execution_count": null,
   "id": "99b1831a",
   "metadata": {},
   "outputs": [],
   "source": [
    "import pathlib\n",
    "import sys\n",
    "\n",
    "NOTEBOOK_DIR = pathlib.Path.cwd()\n",
    "if '_NB_SYS_PATH_ADJUSTED' not in globals():\n",
    "    sys.path.insert(0, str(NOTEBOOK_DIR))\n",
    "    _NB_SYS_PATH_ADJUSTED = True\n",
    "\n",
    "import pandas as pd \n",
    "import rdflib\n",
    "\n",
    "import modules.file_utils as file_utils\n",
    "\n",
    "pd.set_option('display.max_colwidth', None)"
   ]
  },
  {
   "cell_type": "code",
   "execution_count": null,
   "id": "9b908805",
   "metadata": {},
   "outputs": [],
   "source": [
    "import modules.rdf_utils as rdf_utils\n",
    "\n",
    "def load_graph(input_ttl: pathlib.Path) -> rdflib.Graph:\n",
    "    graph = rdf_utils.read_graph(str(input_ttl))\n",
    "    return graph\n"
   ]
  },
  {
   "cell_type": "code",
   "execution_count": null,
   "id": "1c712c81",
   "metadata": {},
   "outputs": [],
   "source": [
    "#  read input ontology file\n",
    "INPUT_TTL = file_utils.latest_file(folder=NOTEBOOK_DIR / \"ontologies\", filename_fragment=\"ontology_\")\n",
    "g = load_graph(INPUT_TTL)\n"
   ]
  },
  {
   "cell_type": "markdown",
   "id": "cb24e8a7",
   "metadata": {},
   "source": [
    "## QUERIES"
   ]
  },
  {
   "cell_type": "code",
   "execution_count": null,
   "id": "000f1d68",
   "metadata": {},
   "outputs": [],
   "source": [
    "import modules.run_query as run_query"
   ]
  },
  {
   "cell_type": "code",
   "execution_count": null,
   "id": "749e5332",
   "metadata": {},
   "outputs": [],
   "source": [
    "CONCEPTS_QUERY = \"\"\"\\\n",
    "SELECT DISTINCT\n",
    "?concept_iri\n",
    "?concept_label\n",
    "WHERE {\n",
    "    ?concept_iri a core:concept .\n",
    "    OPTIONAL { ?concept_iri rdfs:label ?concept_label . }\n",
    "}\n",
    "ORDER BY ?concept_iri\n",
    "\"\"\"\n",
    "concepts_df = run_query.main(g, CONCEPTS_QUERY, write_to_csv=True)\n",
    "concepts_df"
   ]
  },
  {
   "cell_type": "code",
   "execution_count": null,
   "id": "45361c27",
   "metadata": {},
   "outputs": [],
   "source": [
    "POSTULATES_QUERY = \"\"\"\\\n",
    "SELECT DISTINCT\n",
    "?postulate_iri\n",
    "WHERE {\n",
    "    ?postulate_iri a core:postulate .\n",
    "}       \n",
    "ORDER BY ?postulate_iri\n",
    "\"\"\"\n",
    "postulates_df = run_query.main(g, POSTULATES_QUERY, write_to_csv=False)\n",
    "postulates_df"
   ]
  },
  {
   "cell_type": "code",
   "execution_count": null,
   "id": "36f97c5c",
   "metadata": {},
   "outputs": [],
   "source": [
    "COMMON_NOTIONS_QUERY = \"\"\"\\\n",
    "SELECT DISTINCT\n",
    "?common_notion_iri\n",
    "WHERE {\n",
    "    ?common_notion_iri a core:common_notion .\n",
    "}       \n",
    "ORDER BY ?common_notion_iri\n",
    "\"\"\"\n",
    "common_notion_df = run_query.main(g, COMMON_NOTIONS_QUERY, write_to_csv=False)\n",
    "common_notion_df"
   ]
  },
  {
   "cell_type": "code",
   "execution_count": null,
   "id": "9ceff912",
   "metadata": {},
   "outputs": [],
   "source": [
    "COMMON_NOTIONS_QUERY = \"\"\"\\\n",
    "SELECT DISTINCT\n",
    "    ?s ?o\n",
    "WHERE {\n",
    "    ?s owl:sameAs ?o .\n",
    "}       \n",
    "ORDER BY ?s ?o\n",
    "\"\"\"\n",
    "common_notion_df = run_query.main(g, COMMON_NOTIONS_QUERY, write_to_csv=False)\n",
    "common_notion_df"
   ]
  },
  {
   "cell_type": "code",
   "execution_count": null,
   "id": "821b3f44",
   "metadata": {},
   "outputs": [],
   "source": [
    "NEIGHBORHOOD_QUERY = \"\"\"\\\n",
    "SELECT DISTINCT\n",
    "    ?o\n",
    "WHERE {\n",
    "    ?s\n",
    "        a core:concept ;\n",
    "        core:is_concept_in ?o .\n",
    "}\n",
    "ORDER BY ?o\n",
    "\"\"\"\n",
    "neighborhood_df = run_query.main(g, NEIGHBORHOOD_QUERY, write_to_csv=False)\n",
    "neighborhood_df"
   ]
  },
  {
   "cell_type": "code",
   "execution_count": null,
   "id": "5d786d50",
   "metadata": {},
   "outputs": [],
   "source": [
    "NEIGHBORHOOD_COUNT_QUERY = \"\"\"\\\n",
    "PREFIX core: <https://www.foom.com/core#>\n",
    "PREFIX owl: <http://www.w3.org/2002/07/owl#>\n",
    "PREFIX rdf: <http://www.w3.org/1999/02/22-rdf-syntax-ns#>\n",
    "PREFIX rdfs: <http://www.w3.org/2000/01/rdf-schema#>\n",
    "\n",
    "SELECT DISTINCT\n",
    "    ?o\n",
    "    (COUNT(*) AS ?links)\n",
    "WHERE {\n",
    "    ?s\n",
    "        a core:concept ;\n",
    "        core:is_concept_in ?o .\n",
    "}\n",
    "GROUP BY ?o\n",
    "ORDER BY DESC(?links)\n",
    "\"\"\"\n",
    "results = g.query(NEIGHBORHOOD_COUNT_QUERY)\n",
    "for row in results:\n",
    "    print(f\"{row.links} {row.o}\")\n",
    "# neighborhood_df = run_query.main(g, NEIGHBORHOOD_QUERY, write_to_csv=False)\n",
    "# neighborhood_df"
   ]
  },
  {
   "cell_type": "code",
   "execution_count": null,
   "id": "f089a506",
   "metadata": {},
   "outputs": [],
   "source": []
  }
 ],
 "metadata": {
  "language_info": {
   "name": "python"
  }
 },
 "nbformat": 4,
 "nbformat_minor": 5
}
